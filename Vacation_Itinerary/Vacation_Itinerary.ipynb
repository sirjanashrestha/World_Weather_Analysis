{
 "cells": [
  {
   "cell_type": "markdown",
   "metadata": {},
   "source": [
    "## Deliverable 3. Create a Travel Itinerary Map."
   ]
  },
  {
   "cell_type": "code",
   "execution_count": 2,
   "metadata": {},
   "outputs": [],
   "source": [
    "# Dependencies and Setup\n",
    "import pandas as pd\n",
    "import requests\n",
    "import gmaps\n",
    "\n",
    "# Import API key\n",
    "from config import g_key\n",
    "\n",
    "# Configure gmaps\n",
    "gmaps.configure(api_key=g_key)"
   ]
  },
  {
   "cell_type": "code",
   "execution_count": 5,
   "metadata": {},
   "outputs": [
    {
     "data": {
      "text/html": [
       "<div>\n",
       "<style scoped>\n",
       "    .dataframe tbody tr th:only-of-type {\n",
       "        vertical-align: middle;\n",
       "    }\n",
       "\n",
       "    .dataframe tbody tr th {\n",
       "        vertical-align: top;\n",
       "    }\n",
       "\n",
       "    .dataframe thead th {\n",
       "        text-align: right;\n",
       "    }\n",
       "</style>\n",
       "<table border=\"1\" class=\"dataframe\">\n",
       "  <thead>\n",
       "    <tr style=\"text-align: right;\">\n",
       "      <th></th>\n",
       "      <th>City_ID</th>\n",
       "      <th>City</th>\n",
       "      <th>Country</th>\n",
       "      <th>Max Temp</th>\n",
       "      <th>Current Situation</th>\n",
       "      <th>Lat</th>\n",
       "      <th>Lng</th>\n",
       "      <th>Hotel Name</th>\n",
       "    </tr>\n",
       "  </thead>\n",
       "  <tbody>\n",
       "    <tr>\n",
       "      <th>0</th>\n",
       "      <td>2</td>\n",
       "      <td>Maralal</td>\n",
       "      <td>KE</td>\n",
       "      <td>59.38</td>\n",
       "      <td>light rain</td>\n",
       "      <td>1.0968</td>\n",
       "      <td>36.6980</td>\n",
       "      <td>Ngari Hill Ecolodge</td>\n",
       "    </tr>\n",
       "    <tr>\n",
       "      <th>1</th>\n",
       "      <td>4</td>\n",
       "      <td>Sturgeon Falls</td>\n",
       "      <td>CA</td>\n",
       "      <td>50.05</td>\n",
       "      <td>overcast clouds</td>\n",
       "      <td>46.3646</td>\n",
       "      <td>-79.9326</td>\n",
       "      <td>Lincoln Motel</td>\n",
       "    </tr>\n",
       "    <tr>\n",
       "      <th>2</th>\n",
       "      <td>5</td>\n",
       "      <td>Durgapur</td>\n",
       "      <td>IN</td>\n",
       "      <td>67.96</td>\n",
       "      <td>clear sky</td>\n",
       "      <td>23.4833</td>\n",
       "      <td>87.3167</td>\n",
       "      <td>OYO 23635 Sher E Bengal</td>\n",
       "    </tr>\n",
       "    <tr>\n",
       "      <th>3</th>\n",
       "      <td>11</td>\n",
       "      <td>Chuy</td>\n",
       "      <td>UY</td>\n",
       "      <td>64.27</td>\n",
       "      <td>few clouds</td>\n",
       "      <td>-33.6971</td>\n",
       "      <td>-53.4616</td>\n",
       "      <td>Nuevo Hotel Plaza</td>\n",
       "    </tr>\n",
       "    <tr>\n",
       "      <th>4</th>\n",
       "      <td>12</td>\n",
       "      <td>Zambezi</td>\n",
       "      <td>ZM</td>\n",
       "      <td>69.71</td>\n",
       "      <td>overcast clouds</td>\n",
       "      <td>-13.5432</td>\n",
       "      <td>23.1047</td>\n",
       "      <td>Royal Kutachika Lodge</td>\n",
       "    </tr>\n",
       "  </tbody>\n",
       "</table>\n",
       "</div>"
      ],
      "text/plain": [
       "   City_ID            City Country  Max Temp Current Situation      Lat  \\\n",
       "0        2         Maralal      KE     59.38        light rain   1.0968   \n",
       "1        4  Sturgeon Falls      CA     50.05   overcast clouds  46.3646   \n",
       "2        5        Durgapur      IN     67.96         clear sky  23.4833   \n",
       "3       11            Chuy      UY     64.27        few clouds -33.6971   \n",
       "4       12         Zambezi      ZM     69.71   overcast clouds -13.5432   \n",
       "\n",
       "       Lng               Hotel Name  \n",
       "0  36.6980      Ngari Hill Ecolodge  \n",
       "1 -79.9326            Lincoln Motel  \n",
       "2  87.3167  OYO 23635 Sher E Bengal  \n",
       "3 -53.4616        Nuevo Hotel Plaza  \n",
       "4  23.1047    Royal Kutachika Lodge  "
      ]
     },
     "execution_count": 5,
     "metadata": {},
     "output_type": "execute_result"
    }
   ],
   "source": [
    "# 1. Read the WeatherPy_vacation.csv into a DataFrame.\n",
    "vacation_df = pd.read_csv(\"../Vacation_Search/WeatherPy_vacation.csv\")\n",
    "vacation_df.head()"
   ]
  },
  {
   "cell_type": "code",
   "execution_count": 6,
   "metadata": {},
   "outputs": [],
   "source": [
    "# 2. Using the template add the city name, the country code, the weather description and maximum temperature for the city.\n",
    "info_box_template = \"\"\"\n",
    "<dl>\n",
    "<dt>Hotel Name</dt><dd>{Hotel Name}</dd>\n",
    "<dt>City</dt><dd>{City}</dd>\n",
    "<dt>Country</dt><dd>{Country}</dd>\n",
    "<dt>Max Temp</dt><dd>{Max Temp} °F</dd>\n",
    "<dt>Current Situation</dt><dd>{Current Situation} °F</dd>\n",
    "</dl>\n",
    "\"\"\"\n",
    "\n",
    "# 3a. Get the data from each row and add it to the formatting template and store the data in a list.\n",
    "hotel_info = [info_box_template.format(**row) for index, row in vacation_df.iterrows()]\n",
    "\n",
    "# 3b. Get the latitude and longitude from each row and store in a new DataFrame.\n",
    "locations = vacation_df[[\"Lat\", \"Lng\"]]"
   ]
  },
  {
   "cell_type": "code",
   "execution_count": 7,
   "metadata": {},
   "outputs": [
    {
     "data": {
      "application/vnd.jupyter.widget-view+json": {
       "model_id": "bc6e58b458934f46ae62b31b2db53844",
       "version_major": 2,
       "version_minor": 0
      },
      "text/plain": [
       "Figure(layout=FigureLayout(height='420px'))"
      ]
     },
     "metadata": {},
     "output_type": "display_data"
    }
   ],
   "source": [
    "# 4a. Add a marker layer for each city to the map.\n",
    "marker_layer = gmaps.marker_layer(locations, info_box_content=hotel_info)\n",
    "fig = gmaps.figure(center=(30.0, 31.0), zoom_level=1.5)\n",
    "fig.add_layer(marker_layer)\n",
    "\n",
    "# 11b. Display the figure\n",
    "fig\n"
   ]
  },
  {
   "cell_type": "code",
   "execution_count": 8,
   "metadata": {},
   "outputs": [],
   "source": [
    "# From the map above pick 4 cities and create a vacation itinerary route to travel between the four cities. \n",
    "# 5. Create DataFrames for each city by filtering the 'vacation_df' using the loc method. \n",
    "# Hint: The starting and ending city should be the same city.\n",
    "\n",
    "vacation_start = vacation_df.loc[vacation_df[\"City\"]==\"Pirot\",:]\n",
    "vacation_end = vacation_df.loc[vacation_df[\"City\"]==\"Pirot\",:]\n",
    "vacation_stop1 = vacation_df.loc[vacation_df[\"City\"]==\"Methoni\",:]\n",
    "vacation_stop2 = vacation_df.loc[vacation_df[\"City\"]==\"Caceres\",:] \n",
    "vacation_stop3 = vacation_df.loc[vacation_df[\"City\"]==\"Mayen\",:] "
   ]
  },
  {
   "cell_type": "code",
   "execution_count": 9,
   "metadata": {},
   "outputs": [
    {
     "name": "stdout",
     "output_type": "stream",
     "text": [
      "(43.1531, 22.5861)\n",
      "(43.1531, 22.5861)\n",
      "(36.8197, 21.7049)\n",
      "(39.522, -6.3748)\n",
      "(50.3333, 7.2167)\n"
     ]
    }
   ],
   "source": [
    "# 6. Get the latitude-longitude pairs as tuples from each city DataFrame using the to_numpy function and list indexing.\n",
    "start = vacation_start[[\"Lat\", \"Lng\"]].to_numpy()\n",
    "start1 = (start[0][0],start[0][1])\n",
    "end = vacation_end[[\"Lat\", \"Lng\"]].to_numpy()\n",
    "end1 = (end[0][0],end[0][1])\n",
    "stop1 = vacation_stop1[[\"Lat\", \"Lng\"]].to_numpy()\n",
    "stop1u = (stop1[0][0],stop1[0][1])\n",
    "stop2 = vacation_stop2[[\"Lat\", \"Lng\"]].to_numpy()\n",
    "stop2u = (stop2[0][0],stop2[0][1])\n",
    "stop3 = vacation_stop3[[\"Lat\", \"Lng\"]].to_numpy()\n",
    "stop3u = (stop3[0][0],stop3[0][1])\n",
    "print(start1)\n",
    "print(end1)\n",
    "print(stop1u)\n",
    "print(stop2u)\n",
    "print((stop3u))"
   ]
  },
  {
   "cell_type": "code",
   "execution_count": 10,
   "metadata": {
    "scrolled": true
   },
   "outputs": [
    {
     "data": {
      "application/vnd.jupyter.widget-view+json": {
       "model_id": "6473d1b0e6da4ae7b6691395d25f5897",
       "version_major": 2,
       "version_minor": 0
      },
      "text/plain": [
       "Figure(layout=FigureLayout(height='420px'))"
      ]
     },
     "metadata": {},
     "output_type": "display_data"
    }
   ],
   "source": [
    "# 7. Create a direction layer map using the start and end latitude-longitude pairs,\n",
    "# and stop1, stop2, and stop3 as the waypoints. The travel_mode should be \"DRIVING\", \"BICYCLING\", or \"WALKING\".\n",
    "\n",
    "waypoints = [stop1u, stop2u, stop3u]\n",
    "\n",
    "fig = gmaps.figure()\n",
    "Vacation_itinerary = gmaps.directions_layer(start1, end1, waypoints=waypoints,travel_mode='DRIVING', show_markers=True)\n",
    "fig.add_layer(Vacation_itinerary)\n",
    "fig"
   ]
  },
  {
   "cell_type": "code",
   "execution_count": 11,
   "metadata": {},
   "outputs": [
    {
     "data": {
      "text/html": [
       "<div>\n",
       "<style scoped>\n",
       "    .dataframe tbody tr th:only-of-type {\n",
       "        vertical-align: middle;\n",
       "    }\n",
       "\n",
       "    .dataframe tbody tr th {\n",
       "        vertical-align: top;\n",
       "    }\n",
       "\n",
       "    .dataframe thead th {\n",
       "        text-align: right;\n",
       "    }\n",
       "</style>\n",
       "<table border=\"1\" class=\"dataframe\">\n",
       "  <thead>\n",
       "    <tr style=\"text-align: right;\">\n",
       "      <th></th>\n",
       "      <th>City_ID</th>\n",
       "      <th>City</th>\n",
       "      <th>Country</th>\n",
       "      <th>Max Temp</th>\n",
       "      <th>Current Situation</th>\n",
       "      <th>Lat</th>\n",
       "      <th>Lng</th>\n",
       "      <th>Hotel Name</th>\n",
       "    </tr>\n",
       "  </thead>\n",
       "  <tbody>\n",
       "    <tr>\n",
       "      <th>0</th>\n",
       "      <td>596</td>\n",
       "      <td>Pirot</td>\n",
       "      <td>RS</td>\n",
       "      <td>51.55</td>\n",
       "      <td>clear sky</td>\n",
       "      <td>43.1531</td>\n",
       "      <td>22.5861</td>\n",
       "      <td>Sin-Kom Hotel Garni</td>\n",
       "    </tr>\n",
       "    <tr>\n",
       "      <th>1</th>\n",
       "      <td>596</td>\n",
       "      <td>Pirot</td>\n",
       "      <td>RS</td>\n",
       "      <td>51.55</td>\n",
       "      <td>clear sky</td>\n",
       "      <td>43.1531</td>\n",
       "      <td>22.5861</td>\n",
       "      <td>Sin-Kom Hotel Garni</td>\n",
       "    </tr>\n",
       "    <tr>\n",
       "      <th>2</th>\n",
       "      <td>554</td>\n",
       "      <td>Methoni</td>\n",
       "      <td>GR</td>\n",
       "      <td>66.22</td>\n",
       "      <td>clear sky</td>\n",
       "      <td>36.8197</td>\n",
       "      <td>21.7049</td>\n",
       "      <td>Methoni Beach Hotel</td>\n",
       "    </tr>\n",
       "    <tr>\n",
       "      <th>3</th>\n",
       "      <td>661</td>\n",
       "      <td>Caceres</td>\n",
       "      <td>ES</td>\n",
       "      <td>60.62</td>\n",
       "      <td>overcast clouds</td>\n",
       "      <td>39.5220</td>\n",
       "      <td>-6.3748</td>\n",
       "      <td>Ahc Hoteles</td>\n",
       "    </tr>\n",
       "    <tr>\n",
       "      <th>4</th>\n",
       "      <td>202</td>\n",
       "      <td>Mayen</td>\n",
       "      <td>DE</td>\n",
       "      <td>61.61</td>\n",
       "      <td>overcast clouds</td>\n",
       "      <td>50.3333</td>\n",
       "      <td>7.2167</td>\n",
       "      <td>Hotel-Restaurant Zum Alten Fritz</td>\n",
       "    </tr>\n",
       "  </tbody>\n",
       "</table>\n",
       "</div>"
      ],
      "text/plain": [
       "   City_ID     City Country  Max Temp Current Situation      Lat      Lng  \\\n",
       "0      596    Pirot      RS     51.55         clear sky  43.1531  22.5861   \n",
       "1      596    Pirot      RS     51.55         clear sky  43.1531  22.5861   \n",
       "2      554  Methoni      GR     66.22         clear sky  36.8197  21.7049   \n",
       "3      661  Caceres      ES     60.62   overcast clouds  39.5220  -6.3748   \n",
       "4      202    Mayen      DE     61.61   overcast clouds  50.3333   7.2167   \n",
       "\n",
       "                         Hotel Name  \n",
       "0               Sin-Kom Hotel Garni  \n",
       "1               Sin-Kom Hotel Garni  \n",
       "2               Methoni Beach Hotel  \n",
       "3                       Ahc Hoteles  \n",
       "4  Hotel-Restaurant Zum Alten Fritz  "
      ]
     },
     "execution_count": 11,
     "metadata": {},
     "output_type": "execute_result"
    }
   ],
   "source": [
    "# 8. To create a marker layer map between the four cities.\n",
    "#  Combine the four city DataFrames into one DataFrame using the concat() function.\n",
    "itinerary_df = pd.concat([vacation_start, vacation_end, vacation_stop1, vacation_stop2, vacation_stop3],ignore_index=True)\n",
    "itinerary_df"
   ]
  },
  {
   "cell_type": "code",
   "execution_count": 12,
   "metadata": {},
   "outputs": [],
   "source": [
    "# 9 Using the template add city name, the country code, the weather description and maximum temperature for the city. \n",
    "info_box_template = \"\"\"\n",
    "<dl>\n",
    "<dt>Hotel Name</dt><dd>{Hotel Name}</dd>\n",
    "<dt>City</dt><dd>{City}</dd>\n",
    "<dt>Country</dt><dd>{Country}</dd>\n",
    "<dt>Max Temp</dt><dd>{Max Temp} °F</dd>\n",
    "<dt>Current Situation</dt><dd>{Current Situation}</dd>\n",
    "</dl>\n",
    "\"\"\"\n",
    "\n",
    "# 10a Get the data from each row and add it to the formatting template and store the data in a list.\n",
    "hotel_info = [info_box_template.format(**row) for index, row in itinerary_df.iterrows()]\n",
    "\n",
    "# 10b. Get the latitude and longitude from each row and store in a new DataFrame.\n",
    "locations = itinerary_df[[\"Lat\", \"Lng\"]]"
   ]
  },
  {
   "cell_type": "code",
   "execution_count": 13,
   "metadata": {},
   "outputs": [
    {
     "data": {
      "application/vnd.jupyter.widget-view+json": {
       "model_id": "bb531a26eaba4c30bae2863a522fc2aa",
       "version_major": 2,
       "version_minor": 0
      },
      "text/plain": [
       "Figure(layout=FigureLayout(height='420px'))"
      ]
     },
     "metadata": {},
     "output_type": "display_data"
    }
   ],
   "source": [
    "# 11a. Add a marker layer for each city to the map.\n",
    "fig = gmaps.figure()\n",
    "marker_layer = gmaps.marker_layer(locations, info_box_content=hotel_info)\n",
    "fig.add_layer(marker_layer)\n",
    "# 11b. Display the figure\n",
    "fig"
   ]
  },
  {
   "cell_type": "code",
   "execution_count": null,
   "metadata": {},
   "outputs": [],
   "source": []
  }
 ],
 "metadata": {
  "kernelspec": {
   "display_name": "PythonData",
   "language": "python",
   "name": "pythondata"
  },
  "language_info": {
   "codemirror_mode": {
    "name": "ipython",
    "version": 3
   },
   "file_extension": ".py",
   "mimetype": "text/x-python",
   "name": "python",
   "nbconvert_exporter": "python",
   "pygments_lexer": "ipython3",
   "version": "3.7.13"
  },
  "latex_envs": {
   "LaTeX_envs_menu_present": true,
   "autoclose": false,
   "autocomplete": true,
   "bibliofile": "biblio.bib",
   "cite_by": "apalike",
   "current_citInitial": 1,
   "eqLabelWithNumbers": true,
   "eqNumInitial": 1,
   "hotkeys": {
    "equation": "Ctrl-E",
    "itemize": "Ctrl-I"
   },
   "labels_anchors": false,
   "latex_user_defs": false,
   "report_style_numbering": false,
   "user_envs_cfg": false
  }
 },
 "nbformat": 4,
 "nbformat_minor": 2
}
